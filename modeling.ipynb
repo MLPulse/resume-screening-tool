{
 "cells": [
  {
   "cell_type": "code",
   "execution_count": 4,
   "metadata": {},
   "outputs": [
    {
     "name": "stderr",
     "output_type": "stream",
     "text": [
      "You are using `torch.load` with `weights_only=False` (the current default value), which uses the default pickle module implicitly. It is possible to construct malicious pickle data which will execute arbitrary code during unpickling (See https://github.com/pytorch/pytorch/blob/main/SECURITY.md#untrusted-models for more details). In a future release, the default value for `weights_only` will be flipped to `True`. This limits the functions that could be executed during unpickling. Arbitrary objects will no longer be allowed to be loaded via this mode unless they are explicitly allowlisted by the user via `torch.serialization.add_safe_globals`. We recommend you start setting `weights_only=True` for any use case where you don't have full control of the loaded file. Please open an issue on GitHub for any issues related to this experimental feature.\n"
     ]
    },
    {
     "name": "stdout",
     "output_type": "stream",
     "text": [
      "Modeling completed successfully.\n"
     ]
    }
   ],
   "source": [
    "# Import necessary libraries\n",
    "import pandas as pd\n",
    "import pickle\n",
    "import spacy\n",
    "from sklearn.feature_extraction.text import TfidfVectorizer\n",
    "from sklearn.metrics.pairwise import cosine_similarity\n",
    "from transformers import pipeline\n",
    "import numpy as np\n",
    "import shap\n",
    "from sentence_transformers import SentenceTransformer  # Optional: more specific\n",
    "\n",
    "# Load preprocessed data\n",
    "resume_data = pd.read_pickle('env/preprocessed_resumes.pkl')\n",
    "with open('env/preprocessed_job_description.pkl', 'rb') as f:\n",
    "    preprocessed_job_description = pickle.load(f)\n",
    "\n",
    "# Load advanced language model SentenceTransformer\n",
    "# Option 1\n",
    "nlp_transformer = SentenceTransformer('all-MiniLM-L6-v2')\n",
    "# Option 2\n",
    "# nlp_transformer = pipeline('feature-extraction', model='sentence-transformers/all-MiniLM-L6-v2')\n",
    "\n",
    "nlp_spacy = spacy.load('en_core_web_sm')\n",
    "\n",
    "# Function for NER using spaCy\n",
    "def extract_entities(text):\n",
    "    doc = nlp_spacy(text)\n",
    "    entities = [(ent.text, ent.label_) for ent in doc.ents]\n",
    "    return entities\n",
    "\n",
    "# Extract entities from resumes\n",
    "resume_data['Entities'] = resume_data['Preprocessed Text'].apply(extract_entities)\n",
    "\n",
    "# Function to compute sentence embeddings\n",
    "def get_sentence_embedding(text):\n",
    "    embedding = nlp_transformer.encode([text])  # Using encode method directly (if using SentenceTransformer)\n",
    "    return np.mean(embedding, axis=0)  # Averaging the embeddings across sentences\n",
    "\n",
    "# Compute embeddings\n",
    "resume_embeddings = resume_data['Preprocessed Text'].apply(get_sentence_embedding)\n",
    "job_description_embedding = get_sentence_embedding(preprocessed_job_description)\n",
    "\n",
    "# Calculate cosine similarity\n",
    "similarity_scores = []\n",
    "for embedding in resume_embeddings:\n",
    "    score = cosine_similarity([embedding], [job_description_embedding])[0][0]  # Avoid embedding[0] for better robustness\n",
    "    similarity_scores.append(score)\n",
    "\n",
    "resume_data['Similarity Score'] = similarity_scores\n",
    "\n",
    "# Map job description keywords to resume content\n",
    "vectorizer = TfidfVectorizer()\n",
    "tfidf_matrix = vectorizer.fit_transform([preprocessed_job_description] + resume_data['Preprocessed Text'].tolist())\n",
    "feature_names = vectorizer.get_feature_names_out()\n",
    "\n",
    "job_tfidf = tfidf_matrix[0]\n",
    "resume_tfidf = tfidf_matrix[1:]\n",
    "\n",
    "keyword_matches = []\n",
    "for i, resume_vector in enumerate(resume_tfidf):\n",
    "    jd_keywords = set([feature_names[index] for index in job_tfidf.nonzero()[1]])\n",
    "    resume_keywords = set([feature_names[index] for index in resume_vector.nonzero()[1]])\n",
    "    common_keywords = jd_keywords.intersection(resume_keywords)\n",
    "    keyword_matches.append(common_keywords)\n",
    "\n",
    "resume_data['Keyword Matches'] = keyword_matches\n",
    "\n",
    "# Save modeling results\n",
    "resume_data.to_pickle('env/modeling_results.pkl')\n",
    "\n",
    "print(\"Modeling completed successfully.\")\n"
   ]
  },
  {
   "cell_type": "code",
   "execution_count": null,
   "metadata": {},
   "outputs": [],
   "source": []
  }
 ],
 "metadata": {
  "kernelspec": {
   "display_name": "Python 3",
   "language": "python",
   "name": "python3"
  },
  "language_info": {
   "codemirror_mode": {
    "name": "ipython",
    "version": 3
   },
   "file_extension": ".py",
   "mimetype": "text/x-python",
   "name": "python",
   "nbconvert_exporter": "python",
   "pygments_lexer": "ipython3",
   "version": "3.11.9"
  }
 },
 "nbformat": 4,
 "nbformat_minor": 2
}
